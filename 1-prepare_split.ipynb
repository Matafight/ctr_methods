{
 "cells": [
  {
   "cell_type": "code",
   "execution_count": 1,
   "metadata": {
    "collapsed": true
   },
   "outputs": [],
   "source": [
    "import pandas as pd\n",
    "import gc"
   ]
  },
  {
   "cell_type": "code",
   "execution_count": 2,
   "metadata": {
    "collapsed": false
   },
   "outputs": [],
   "source": [
    "import feather"
   ]
  },
  {
   "cell_type": "code",
   "execution_count": 3,
   "metadata": {
    "collapsed": false
   },
   "outputs": [
    {
     "data": {
      "text/plain": [
       "['clicks_test.csv.zip',\n",
       " 'clicks_train.csv.zip',\n",
       " 'documents_categories.csv.zip',\n",
       " 'documents_entities.csv.zip',\n",
       " 'documents_meta.csv.zip',\n",
       " 'documents_topics.csv.zip',\n",
       " 'events.csv.zip',\n",
       " 'promoted_content.csv.zip',\n",
       " 'sample_submission.csv.zip']"
      ]
     },
     "execution_count": 3,
     "metadata": {},
     "output_type": "execute_result"
    }
   ],
   "source": [
    "import os\n",
    "os.listdir('../data/')"
   ]
  },
  {
   "cell_type": "code",
   "execution_count": 4,
   "metadata": {
    "collapsed": false
   },
   "outputs": [],
   "source": [
    "data_path = '../data/'\n",
    "click_train=pd.read_csv(data_path+'clicks_train.csv.zip',chunksize=100000)"
   ]
  },
  {
   "cell_type": "code",
   "execution_count": 5,
   "metadata": {
    "collapsed": false
   },
   "outputs": [],
   "source": [
    "## 取前10w个数据吧\n",
    "c = 0 \n",
    "df_click_train=None\n",
    "for item  in click_train:\n",
    "    df_click_train=item\n",
    "    break"
   ]
  },
  {
   "cell_type": "code",
   "execution_count": 6,
   "metadata": {
    "collapsed": false
   },
   "outputs": [
    {
     "data": {
      "text/plain": [
       "19587"
      ]
     },
     "execution_count": 6,
     "metadata": {},
     "output_type": "execute_result"
    }
   ],
   "source": [
    "df_click_train.clicked.sum()"
   ]
  },
  {
   "cell_type": "code",
   "execution_count": 7,
   "metadata": {
    "collapsed": false
   },
   "outputs": [
    {
     "data": {
      "text/plain": [
       "(100000, 3)"
      ]
     },
     "execution_count": 7,
     "metadata": {},
     "output_type": "execute_result"
    }
   ],
   "source": [
    "df_click_train.shape"
   ]
  },
  {
   "cell_type": "code",
   "execution_count": 8,
   "metadata": {
    "collapsed": false
   },
   "outputs": [],
   "source": [
    "click_test = pd.read_csv(data_path+'clicks_test.csv.zip',chunksize=100000)"
   ]
  },
  {
   "cell_type": "code",
   "execution_count": 9,
   "metadata": {
    "collapsed": true
   },
   "outputs": [],
   "source": [
    "df_click_test=None\n",
    "for item in click_test:\n",
    "    df_click_test = item\n",
    "    break"
   ]
  },
  {
   "cell_type": "code",
   "execution_count": 10,
   "metadata": {
    "collapsed": false
   },
   "outputs": [
    {
     "data": {
      "text/plain": [
       "(100000, 2)"
      ]
     },
     "execution_count": 10,
     "metadata": {},
     "output_type": "execute_result"
    }
   ],
   "source": [
    "df_click_test.shape"
   ]
  },
  {
   "cell_type": "code",
   "execution_count": 11,
   "metadata": {
    "collapsed": false
   },
   "outputs": [
    {
     "data": {
      "text/html": [
       "<div>\n",
       "<style scoped>\n",
       "    .dataframe tbody tr th:only-of-type {\n",
       "        vertical-align: middle;\n",
       "    }\n",
       "\n",
       "    .dataframe tbody tr th {\n",
       "        vertical-align: top;\n",
       "    }\n",
       "\n",
       "    .dataframe thead th {\n",
       "        text-align: right;\n",
       "    }\n",
       "</style>\n",
       "<table border=\"1\" class=\"dataframe\">\n",
       "  <thead>\n",
       "    <tr style=\"text-align: right;\">\n",
       "      <th></th>\n",
       "      <th>display_id</th>\n",
       "      <th>ad_id</th>\n",
       "    </tr>\n",
       "  </thead>\n",
       "  <tbody>\n",
       "    <tr>\n",
       "      <td>0</td>\n",
       "      <td>16874594</td>\n",
       "      <td>66758</td>\n",
       "    </tr>\n",
       "    <tr>\n",
       "      <td>1</td>\n",
       "      <td>16874594</td>\n",
       "      <td>150083</td>\n",
       "    </tr>\n",
       "    <tr>\n",
       "      <td>2</td>\n",
       "      <td>16874594</td>\n",
       "      <td>162754</td>\n",
       "    </tr>\n",
       "    <tr>\n",
       "      <td>3</td>\n",
       "      <td>16874594</td>\n",
       "      <td>170392</td>\n",
       "    </tr>\n",
       "    <tr>\n",
       "      <td>4</td>\n",
       "      <td>16874594</td>\n",
       "      <td>172888</td>\n",
       "    </tr>\n",
       "  </tbody>\n",
       "</table>\n",
       "</div>"
      ],
      "text/plain": [
       "   display_id   ad_id\n",
       "0    16874594   66758\n",
       "1    16874594  150083\n",
       "2    16874594  162754\n",
       "3    16874594  170392\n",
       "4    16874594  172888"
      ]
     },
     "execution_count": 11,
     "metadata": {},
     "output_type": "execute_result"
    }
   ],
   "source": [
    "df_click_test.head()"
   ]
  },
  {
   "cell_type": "code",
   "execution_count": 12,
   "metadata": {
    "collapsed": true
   },
   "outputs": [],
   "source": [
    "display_train=set(df_click_train.display_id)"
   ]
  },
  {
   "cell_type": "code",
   "execution_count": 13,
   "metadata": {
    "collapsed": true
   },
   "outputs": [],
   "source": [
    "display_test=set(df_click_test.display_id)"
   ]
  },
  {
   "cell_type": "code",
   "execution_count": 14,
   "metadata": {
    "collapsed": false
   },
   "outputs": [],
   "source": [
    "a = display_train.intersection(display_test)"
   ]
  },
  {
   "cell_type": "code",
   "execution_count": 15,
   "metadata": {
    "collapsed": true
   },
   "outputs": [],
   "source": [
    "ad_train=set(df_click_train.ad_id)\n",
    "ad_test=set(df_click_test.ad_id)"
   ]
  },
  {
   "cell_type": "code",
   "execution_count": 16,
   "metadata": {
    "collapsed": false
   },
   "outputs": [],
   "source": [
    "df_events=pd.read_csv(data_path+'events.csv.zip',chunksize=100000)\n"
   ]
  },
  {
   "cell_type": "code",
   "execution_count": 17,
   "metadata": {
    "collapsed": false
   },
   "outputs": [
    {
     "name": "stderr",
     "output_type": "stream",
     "text": [
      "232it [01:04,  3.58it/s]\n"
     ]
    }
   ],
   "source": [
    "import tqdm\n",
    "c = 0\n",
    "\n",
    "for item in tqdm.tqdm(df_events):\n",
    "    if c==0:\n",
    "        c+=1\n",
    "        df_train_events=item\n",
    "        df_test_events=item\n",
    "    item1 = item.loc[item.display_id.isin(df_click_train.display_id),:]\n",
    "    df_train_events = df_train_events.append(item1)\n",
    "    item2 = item.loc[item.display_id.isin(df_click_test.display_id),:]\n",
    "    df_test_events = df_test_events.append(item2)\n",
    "    "
   ]
  },
  {
   "cell_type": "code",
   "execution_count": 18,
   "metadata": {
    "collapsed": false
   },
   "outputs": [],
   "source": [
    "df_total_events=pd.concat([df_train_events,df_test_events],axis=0)"
   ]
  },
  {
   "cell_type": "code",
   "execution_count": 19,
   "metadata": {
    "collapsed": false
   },
   "outputs": [
    {
     "data": {
      "text/plain": [
       "(239221, 6)"
      ]
     },
     "execution_count": 19,
     "metadata": {},
     "output_type": "execute_result"
    }
   ],
   "source": [
    "df_total_events.shape"
   ]
  },
  {
   "cell_type": "code",
   "execution_count": 20,
   "metadata": {
    "collapsed": false
   },
   "outputs": [],
   "source": [
    "def paths(tokens):\n",
    "    all_paths = ['_'.join(tokens[0:(i+1)]) for i in range(len(tokens))]\n",
    "    return ' '.join(all_paths)\n",
    "\n",
    "def unwrap_geo(geo):\n",
    "    geo = geo.split('>')\n",
    "    return paths(geo)"
   ]
  },
  {
   "cell_type": "code",
   "execution_count": 21,
   "metadata": {
    "collapsed": false
   },
   "outputs": [],
   "source": [
    "df_total_events.geo_location.fillna('', inplace=True)"
   ]
  },
  {
   "cell_type": "code",
   "execution_count": 22,
   "metadata": {
    "collapsed": true
   },
   "outputs": [],
   "source": [
    "geo_str = df_total_events.geo_location.apply(unwrap_geo)\n"
   ]
  },
  {
   "cell_type": "code",
   "execution_count": 23,
   "metadata": {
    "collapsed": false
   },
   "outputs": [],
   "source": [
    "ts = (df_total_events.timestamp + 1465876799998) / 1000\n",
    "df_total_events.timestamp = pd.to_datetime(ts, unit='s')"
   ]
  },
  {
   "cell_type": "code",
   "execution_count": 24,
   "metadata": {
    "collapsed": true
   },
   "outputs": [],
   "source": [
    "dt = df_total_events.timestamp.dt\n",
    "\n",
    "dow = 'dow_' + dt.dayofweek.astype('str')\n",
    "hours = 'hour_' + dt.hour.astype('str')\n",
    "dow_hour = 'dow_hour_' + dt.dayofweek.astype('str') + '_' + dt.hour.astype('str')\n",
    "\n",
    "display_str = 'u_' + df_total_events.uuid + ' ' + \\\n",
    "              'd_' + df_total_events.document_id.astype('str') + ' ' + \\\n",
    "              'p_' + df_total_events.platform.astype('str') + ' ' +  \\\n",
    "              dow + ' ' + hours + ' ' + dow_hour + ' ' + \\\n",
    "              geo_str"
   ]
  },
  {
   "cell_type": "code",
   "execution_count": 25,
   "metadata": {
    "collapsed": true
   },
   "outputs": [],
   "source": [
    "df_events_processed = pd.DataFrame()\n",
    "df_events_processed['display_id'] = df_total_events.display_id\n",
    "df_events_processed['display_str'] = display_str"
   ]
  },
  {
   "cell_type": "code",
   "execution_count": 26,
   "metadata": {
    "collapsed": false
   },
   "outputs": [],
   "source": [
    "df_promoted = pd.read_csv(data_path+\"promoted_content.csv.zip\")"
   ]
  },
  {
   "cell_type": "code",
   "execution_count": 27,
   "metadata": {
    "collapsed": false
   },
   "outputs": [],
   "source": [
    "ad_string = 'addoc_' + df_promoted.document_id.astype('str') + ' ' \\\n",
    "            'campaign_' + df_promoted.campaign_id.astype('str') + ' ' \\\n",
    "            'adv_' + df_promoted.advertiser_id.astype('str') \n",
    "\n",
    "df_promoted_processed = pd.DataFrame()\n",
    "df_promoted_processed['ad_id'] = df_promoted.ad_id\n",
    "df_promoted_processed['promoted_ad_str'] = ad_string"
   ]
  },
  {
   "cell_type": "code",
   "execution_count": 28,
   "metadata": {
    "collapsed": false
   },
   "outputs": [],
   "source": [
    "ad_to_idx = dict(zip(df_promoted_processed.ad_id, df_promoted_processed.index))\n",
    "display_to_idx = dict(zip(df_events_processed.display_id,df_events_processed.index))"
   ]
  },
  {
   "cell_type": "code",
   "execution_count": 29,
   "metadata": {
    "collapsed": true
   },
   "outputs": [],
   "source": [
    "# processing data in batches\n",
    "\n",
    "def prepare_batch(batch):\n",
    "    batch = batch.reset_index(drop=1)\n",
    "    \n",
    "    promoted_idx = batch.ad_id.apply(ad_to_idx.get)\n",
    "    promoted_ad_str = df_promoted_processed.promoted_ad_str.iloc[promoted_idx]\n",
    "\n",
    "    ## 这行代码有问题吧？？？\n",
    "    display_idx = batch.display_id.apply(display_to_idx.get)\n",
    "#     display_str = df_events_processed.display_str.iloc[batch.display_id - 1]\n",
    "    display_str = df_events_processed.display_str.loc[display_idx]\n",
    "    \n",
    "    promoted_ad_str.reset_index(drop=True, inplace=True)\n",
    "    display_str.reset_index(drop=True, inplace=True)\n",
    "\n",
    "    batch['ad_display_str'] = promoted_ad_str + ' ' + display_str\n",
    "    return batch"
   ]
  },
  {
   "cell_type": "code",
   "execution_count": 41,
   "metadata": {
    "collapsed": false
   },
   "outputs": [],
   "source": [
    "def append_to_csv(batch, csv_file):\n",
    "    props = dict(encoding='utf-8', index=False)\n",
    "#     if not os.path.exists(csv_file):\n",
    "    batch.to_csv(csv_file, **props)\n",
    "#     else:\n",
    "#         batch.to_csv(csv_file, mode='a', header=False, **props)"
   ]
  },
  {
   "cell_type": "code",
   "execution_count": 42,
   "metadata": {
    "collapsed": false
   },
   "outputs": [],
   "source": [
    "def delete_file_if_exists(filename):\n",
    "    if os.path.exists(filename):\n",
    "        os.remove(filename)\n",
    "\n",
    "def chunk_dataframe(df, n):\n",
    "#     for i in range(0, len(df), n):\n",
    "    for i in range(0, 2000000,n):\n",
    "        yield df.iloc[i:i+n]"
   ]
  },
  {
   "cell_type": "code",
   "execution_count": 43,
   "metadata": {
    "collapsed": true
   },
   "outputs": [],
   "source": [
    "## 每次展示都有一个唯一的display_id，所以display_id肯定不会重复"
   ]
  },
  {
   "cell_type": "code",
   "execution_count": 44,
   "metadata": {
    "collapsed": true
   },
   "outputs": [],
   "source": [
    "\n",
    "batch = prepare_batch(df_click_train)\n",
    "batch['fold']=0\n",
    "total_index=list(range(df_click_train.shape[0]))\n",
    "import numpy as np\n",
    "sam_ind = np.random.choice(total_index,int(len(total_index)/2),replace=False)\n",
    "batch.loc[batch.iloc[sam_ind,].index,'fold']=1"
   ]
  },
  {
   "cell_type": "code",
   "execution_count": 45,
   "metadata": {
    "collapsed": false
   },
   "outputs": [],
   "source": [
    "append_to_csv(batch, './processed/svm_features_train.csv')"
   ]
  },
  {
   "cell_type": "code",
   "execution_count": 46,
   "metadata": {
    "collapsed": false
   },
   "outputs": [],
   "source": [
    "batch = prepare_batch(df_click_test)\n",
    "append_to_csv(batch, './processed/svm_features_test.csv')"
   ]
  },
  {
   "cell_type": "code",
   "execution_count": null,
   "metadata": {
    "collapsed": false
   },
   "outputs": [],
   "source": []
  },
  {
   "cell_type": "code",
   "execution_count": null,
   "metadata": {
    "collapsed": false
   },
   "outputs": [],
   "source": []
  },
  {
   "cell_type": "code",
   "execution_count": null,
   "metadata": {
    "collapsed": true
   },
   "outputs": [],
   "source": []
  }
 ],
 "metadata": {
  "kernelspec": {
   "display_name": "python (pytorch2)",
   "language": "python",
   "name": "pytorch2"
  },
  "language_info": {
   "codemirror_mode": {
    "name": "ipython",
    "version": 3
   },
   "file_extension": ".py",
   "mimetype": "text/x-python",
   "name": "python",
   "nbconvert_exporter": "python",
   "pygments_lexer": "ipython3",
   "version": "3.6.5"
  }
 },
 "nbformat": 4,
 "nbformat_minor": 2
}
