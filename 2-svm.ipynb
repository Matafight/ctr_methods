{
 "cells": [
  {
   "cell_type": "code",
   "execution_count": 1,
   "metadata": {
    "collapsed": true
   },
   "outputs": [],
   "source": [
    "from time import time\n",
    "\n",
    "import pandas as pd\n",
    "import numpy as np\n",
    "\n",
    "from sklearn.feature_extraction.text import HashingVectorizer\n",
    "from sklearn.svm import LinearSVC\n",
    "from sklearn.metrics import roc_auc_score"
   ]
  },
  {
   "cell_type": "code",
   "execution_count": 2,
   "metadata": {
    "collapsed": true
   },
   "outputs": [],
   "source": [
    "# building the data for train\n",
    "\n",
    "df_all = pd.read_csv('./processed/svm_features_train.csv')\n",
    "\n",
    "text_vec = HashingVectorizer(dtype=np.uint8, n_features=10000000, norm=None, \n",
    "                             lowercase=False, binary=True, token_pattern='\\\\S+')"
   ]
  },
  {
   "cell_type": "code",
   "execution_count": 3,
   "metadata": {
    "collapsed": false
   },
   "outputs": [
    {
     "name": "stdout",
     "output_type": "stream",
     "text": [
      "building the train matrix took 1.8803 S\n"
     ]
    }
   ],
   "source": [
    "t0 = time()\n",
    "X = text_vec.transform(df_all.ad_display_str)\n",
    "\n",
    "print('building the train matrix took %.4f S' % (time() - t0))"
   ]
  },
  {
   "cell_type": "code",
   "execution_count": 4,
   "metadata": {
    "collapsed": true
   },
   "outputs": [],
   "source": [
    "fold = df_all.fold.values\n",
    "\n",
    "X_0 = X[fold == 0]\n",
    "X_1 = X[fold == 1]\n",
    "\n",
    "y = df_all.clicked.values\n",
    "y_0 = y[fold == 0]\n",
    "y_1 = y[fold == 1]"
   ]
  },
  {
   "cell_type": "code",
   "execution_count": 5,
   "metadata": {
    "collapsed": false
   },
   "outputs": [
    {
     "name": "stderr",
     "output_type": "stream",
     "text": [
      "C:\\ProgramData\\Anaconda3\\envs\\pytorch2\\lib\\site-packages\\sklearn\\svm\\base.py:929: ConvergenceWarning: Liblinear failed to converge, increase the number of iterations.\n",
      "  \"the number of iterations.\", ConvergenceWarning)\n"
     ]
    }
   ],
   "source": [
    "# fitting the model for fold 1\n",
    "\n",
    "C = 0.1\n",
    "\n",
    "t0 = time()\n",
    "\n",
    "svm = LinearSVC(penalty='l1', dual=False, C=C, random_state=1)\n",
    "svm.fit(X_0, y_0)\n",
    "\n",
    "y_pred = svm.decision_function(X_1)\n",
    "auc = roc_auc_score(y_1, y_pred)"
   ]
  },
  {
   "cell_type": "code",
   "execution_count": null,
   "metadata": {
    "collapsed": true
   },
   "outputs": [],
   "source": [
    "?%.3fs, auc=%.3f' % (C, time() - t0, auc))"
   ]
  }
 ],
 "metadata": {
  "kernelspec": {
   "display_name": "python (pytorch2)",
   "language": "python",
   "name": "pytorch2"
  },
  "language_info": {
   "codemirror_mode": {
    "name": "ipython",
    "version": 3
   },
   "file_extension": ".py",
   "mimetype": "text/x-python",
   "name": "python",
   "nbconvert_exporter": "python",
   "pygments_lexer": "ipython3",
   "version": "3.6.5"
  }
 },
 "nbformat": 4,
 "nbformat_minor": 2
}
