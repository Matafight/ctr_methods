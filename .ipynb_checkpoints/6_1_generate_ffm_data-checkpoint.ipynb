{
 "cells": [
  {
   "cell_type": "code",
   "execution_count": 1,
   "metadata": {
    "collapsed": true
   },
   "outputs": [],
   "source": [
    "import os\n",
    "import pandas as pd\n",
    "import numpy as np"
   ]
  },
  {
   "cell_type": "code",
   "execution_count": 2,
   "metadata": {
    "collapsed": true
   },
   "outputs": [],
   "source": [
    "df_train = pd.read_csv('./processed/svm_features_train.csv')"
   ]
  },
  {
   "cell_type": "code",
   "execution_count": 3,
   "metadata": {
    "collapsed": false
   },
   "outputs": [
    {
     "data": {
      "text/html": [
       "<div>\n",
       "<style scoped>\n",
       "    .dataframe tbody tr th:only-of-type {\n",
       "        vertical-align: middle;\n",
       "    }\n",
       "\n",
       "    .dataframe tbody tr th {\n",
       "        vertical-align: top;\n",
       "    }\n",
       "\n",
       "    .dataframe thead th {\n",
       "        text-align: right;\n",
       "    }\n",
       "</style>\n",
       "<table border=\"1\" class=\"dataframe\">\n",
       "  <thead>\n",
       "    <tr style=\"text-align: right;\">\n",
       "      <th></th>\n",
       "      <th>display_id</th>\n",
       "      <th>ad_id</th>\n",
       "      <th>clicked</th>\n",
       "      <th>ad_display_str</th>\n",
       "      <th>fold</th>\n",
       "    </tr>\n",
       "  </thead>\n",
       "  <tbody>\n",
       "    <tr>\n",
       "      <td>0</td>\n",
       "      <td>1</td>\n",
       "      <td>42337</td>\n",
       "      <td>0</td>\n",
       "      <td>addoc_938164 campaign_5969 adv_1499 u_cb8c5570...</td>\n",
       "      <td>0</td>\n",
       "    </tr>\n",
       "    <tr>\n",
       "      <td>1</td>\n",
       "      <td>1</td>\n",
       "      <td>139684</td>\n",
       "      <td>0</td>\n",
       "      <td>addoc_1085937 campaign_17527 adv_2563 u_cb8c55...</td>\n",
       "      <td>0</td>\n",
       "    </tr>\n",
       "    <tr>\n",
       "      <td>2</td>\n",
       "      <td>1</td>\n",
       "      <td>144739</td>\n",
       "      <td>1</td>\n",
       "      <td>addoc_1337362 campaign_18488 adv_2909 u_cb8c55...</td>\n",
       "      <td>0</td>\n",
       "    </tr>\n",
       "    <tr>\n",
       "      <td>3</td>\n",
       "      <td>1</td>\n",
       "      <td>156824</td>\n",
       "      <td>0</td>\n",
       "      <td>addoc_992370 campaign_7283 adv_1919 u_cb8c5570...</td>\n",
       "      <td>1</td>\n",
       "    </tr>\n",
       "    <tr>\n",
       "      <td>4</td>\n",
       "      <td>1</td>\n",
       "      <td>279295</td>\n",
       "      <td>0</td>\n",
       "      <td>addoc_1670176 campaign_27524 adv_1820 u_cb8c55...</td>\n",
       "      <td>1</td>\n",
       "    </tr>\n",
       "  </tbody>\n",
       "</table>\n",
       "</div>"
      ],
      "text/plain": [
       "   display_id   ad_id  clicked  \\\n",
       "0           1   42337        0   \n",
       "1           1  139684        0   \n",
       "2           1  144739        1   \n",
       "3           1  156824        0   \n",
       "4           1  279295        0   \n",
       "\n",
       "                                      ad_display_str  fold  \n",
       "0  addoc_938164 campaign_5969 adv_1499 u_cb8c5570...     0  \n",
       "1  addoc_1085937 campaign_17527 adv_2563 u_cb8c55...     0  \n",
       "2  addoc_1337362 campaign_18488 adv_2909 u_cb8c55...     0  \n",
       "3  addoc_992370 campaign_7283 adv_1919 u_cb8c5570...     1  \n",
       "4  addoc_1670176 campaign_27524 adv_1820 u_cb8c55...     1  "
      ]
     },
     "execution_count": 3,
     "metadata": {},
     "output_type": "execute_result"
    }
   ],
   "source": [
    "df_train.head()"
   ]
  },
  {
   "cell_type": "code",
   "execution_count": 4,
   "metadata": {
    "collapsed": false
   },
   "outputs": [],
   "source": [
    "D = 2 ** 20\n",
    "\n",
    "# display features\n",
    "USER = '0'\n",
    "ON_DOC = '1'\n",
    "PLATFORM = '2'\n",
    "\n",
    "# ads features\n",
    "AD = '3'\n",
    "AD_DOC = '4'\n",
    "CAMPAIGN = '5'\n",
    "ADVERTISER = '6'\n",
    "\n",
    "# document features\n",
    "ON_SRC = '7'\n",
    "ON_PUBLISHER = '8'\n",
    "\n",
    "AD_SRC = '9'\n",
    "AD_PUBLISHER = '10' \n",
    "\n",
    "\n",
    "def hash_element(el):\n",
    "    h = hash(el) % D\n",
    "    if h < 0:\n",
    "        h = h + D\n",
    "    return str(h)"
   ]
  },
  {
   "cell_type": "code",
   "execution_count": 5,
   "metadata": {
    "collapsed": false
   },
   "outputs": [],
   "source": [
    "df_events = pd.read_csv('../data/events.csv.zip',chunksize=1000000)"
   ]
  },
  {
   "cell_type": "code",
   "execution_count": 6,
   "metadata": {
    "collapsed": false,
    "scrolled": true
   },
   "outputs": [
    {
     "name": "stderr",
     "output_type": "stream",
     "text": [
      "C:\\ProgramData\\Anaconda3\\envs\\pytorch2\\lib\\site-packages\\IPython\\core\\interactiveshell.py:3058: DtypeWarning: Columns (4) have mixed types. Specify dtype option on import or set low_memory=False.\n",
      "  interactivity=interactivity, compiler=compiler, result=result)\n"
     ]
    }
   ],
   "source": [
    "c = 0\n",
    "train_events=None\n",
    "for item in df_events:\n",
    "    c+=1\n",
    "    tar_item = item.loc[item.display_id.isin(df_train.display_id),:]\n",
    "    \n",
    "    if train_events is None:\n",
    "        train_events=tar_item\n",
    "    else:\n",
    "        tar_shape=tar_item.shape[0]\n",
    "        train_events_shape=train_events.shape[0]\n",
    "        train_events.append(tar_item)\n",
    "        # 确保 append 方法使用正确\n",
    "        assert train_events.shape[0]== tar_shape+train_events_shape"
   ]
  },
  {
   "cell_type": "code",
   "execution_count": 40,
   "metadata": {
    "collapsed": false
   },
   "outputs": [],
   "source": [
    "del df_events"
   ]
  },
  {
   "cell_type": "code",
   "execution_count": 54,
   "metadata": {
    "collapsed": true
   },
   "outputs": [],
   "source": [
    "user_str = USER + ':' + train_events.uuid.apply(hash_element)+':1'\n",
    "doc_str = ON_DOC + ':' + train_events.document_id.apply(hash_element)+':1'\n",
    "platforms = PLATFORM +':' + train_events.platform.astype('str')+':1'"
   ]
  },
  {
   "cell_type": "code",
   "execution_count": 55,
   "metadata": {
    "collapsed": false
   },
   "outputs": [],
   "source": [
    "df_events_processed = pd.DataFrame()\n",
    "df_events_processed['display_str'] = user_str + ' ' + doc_str + ' ' + platforms\n",
    "df_events_processed['document_id'] = train_events.document_id\n",
    "del user_str, doc_str, platforms"
   ]
  },
  {
   "cell_type": "code",
   "execution_count": 56,
   "metadata": {
    "collapsed": false
   },
   "outputs": [
    {
     "data": {
      "text/plain": [
       "(19587, 2)"
      ]
     },
     "execution_count": 56,
     "metadata": {},
     "output_type": "execute_result"
    }
   ],
   "source": [
    "df_events_processed.shape"
   ]
  },
  {
   "cell_type": "code",
   "execution_count": 57,
   "metadata": {
    "collapsed": false
   },
   "outputs": [
    {
     "data": {
      "text/html": [
       "<div>\n",
       "<style scoped>\n",
       "    .dataframe tbody tr th:only-of-type {\n",
       "        vertical-align: middle;\n",
       "    }\n",
       "\n",
       "    .dataframe tbody tr th {\n",
       "        vertical-align: top;\n",
       "    }\n",
       "\n",
       "    .dataframe thead th {\n",
       "        text-align: right;\n",
       "    }\n",
       "</style>\n",
       "<table border=\"1\" class=\"dataframe\">\n",
       "  <thead>\n",
       "    <tr style=\"text-align: right;\">\n",
       "      <th></th>\n",
       "      <th>display_str</th>\n",
       "      <th>document_id</th>\n",
       "    </tr>\n",
       "  </thead>\n",
       "  <tbody>\n",
       "    <tr>\n",
       "      <td>0</td>\n",
       "      <td>0:911113:1 1:379743:1 2:3:1</td>\n",
       "      <td>379743</td>\n",
       "    </tr>\n",
       "    <tr>\n",
       "      <td>1</td>\n",
       "      <td>0:827541:1 1:745683:1 2:2:1</td>\n",
       "      <td>1794259</td>\n",
       "    </tr>\n",
       "    <tr>\n",
       "      <td>2</td>\n",
       "      <td>0:444437:1 1:130535:1 2:2:1</td>\n",
       "      <td>1179111</td>\n",
       "    </tr>\n",
       "    <tr>\n",
       "      <td>3</td>\n",
       "      <td>0:160935:1 1:729221:1 2:2:1</td>\n",
       "      <td>1777797</td>\n",
       "    </tr>\n",
       "    <tr>\n",
       "      <td>4</td>\n",
       "      <td>0:364377:1 1:252458:1 2:2:1</td>\n",
       "      <td>252458</td>\n",
       "    </tr>\n",
       "  </tbody>\n",
       "</table>\n",
       "</div>"
      ],
      "text/plain": [
       "                   display_str  document_id\n",
       "0  0:911113:1 1:379743:1 2:3:1       379743\n",
       "1  0:827541:1 1:745683:1 2:2:1      1794259\n",
       "2  0:444437:1 1:130535:1 2:2:1      1179111\n",
       "3  0:160935:1 1:729221:1 2:2:1      1777797\n",
       "4  0:364377:1 1:252458:1 2:2:1       252458"
      ]
     },
     "execution_count": 57,
     "metadata": {},
     "output_type": "execute_result"
    }
   ],
   "source": [
    "df_events_processed.head()"
   ]
  },
  {
   "cell_type": "code",
   "execution_count": 65,
   "metadata": {
    "collapsed": false
   },
   "outputs": [],
   "source": [
    "df_ads = pd.read_csv(\"../data/promoted_content.csv.zip\")"
   ]
  },
  {
   "cell_type": "code",
   "execution_count": 67,
   "metadata": {
    "collapsed": true
   },
   "outputs": [],
   "source": [
    "ad_to_doc = dict(zip(df_ads.ad_id, df_ads.document_id))\n",
    "\n",
    "ad_str = AD + ':' + df_ads.ad_id.astype(str) + ':1 ' + \\\n",
    "         AD_DOC + ':' + df_ads.document_id.apply(hash_element) + ':1 ' + \\\n",
    "         CAMPAIGN + ':' + df_ads.campaign_id.astype(str) + ':1 ' + \\\n",
    "         ADVERTISER + ':' + df_ads.advertiser_id.astype(str) + ':1'\n",
    "\n",
    "ad_str_dict = dict(zip(df_ads.ad_id, ad_str))\n",
    "\n",
    "del ad_str, df_ads"
   ]
  },
  {
   "cell_type": "code",
   "execution_count": 68,
   "metadata": {
    "collapsed": false
   },
   "outputs": [
    {
     "data": {
      "text/plain": [
       "559583"
      ]
     },
     "execution_count": 68,
     "metadata": {},
     "output_type": "execute_result"
    }
   ],
   "source": [
    "len(ad_str_dict)"
   ]
  },
  {
   "cell_type": "code",
   "execution_count": 70,
   "metadata": {
    "collapsed": false
   },
   "outputs": [
    {
     "data": {
      "text/html": [
       "<div>\n",
       "<style scoped>\n",
       "    .dataframe tbody tr th:only-of-type {\n",
       "        vertical-align: middle;\n",
       "    }\n",
       "\n",
       "    .dataframe tbody tr th {\n",
       "        vertical-align: top;\n",
       "    }\n",
       "\n",
       "    .dataframe thead th {\n",
       "        text-align: right;\n",
       "    }\n",
       "</style>\n",
       "<table border=\"1\" class=\"dataframe\">\n",
       "  <thead>\n",
       "    <tr style=\"text-align: right;\">\n",
       "      <th></th>\n",
       "      <th>display_id</th>\n",
       "      <th>ad_id</th>\n",
       "      <th>clicked</th>\n",
       "      <th>ad_display_str</th>\n",
       "      <th>fold</th>\n",
       "    </tr>\n",
       "  </thead>\n",
       "  <tbody>\n",
       "    <tr>\n",
       "      <td>0</td>\n",
       "      <td>1</td>\n",
       "      <td>42337</td>\n",
       "      <td>0</td>\n",
       "      <td>addoc_938164 campaign_5969 adv_1499 u_42063f0c...</td>\n",
       "      <td>0</td>\n",
       "    </tr>\n",
       "    <tr>\n",
       "      <td>1</td>\n",
       "      <td>1</td>\n",
       "      <td>139684</td>\n",
       "      <td>0</td>\n",
       "      <td>addoc_1085937 campaign_17527 adv_2563 u_42063f...</td>\n",
       "      <td>0</td>\n",
       "    </tr>\n",
       "    <tr>\n",
       "      <td>2</td>\n",
       "      <td>1</td>\n",
       "      <td>144739</td>\n",
       "      <td>1</td>\n",
       "      <td>addoc_1337362 campaign_18488 adv_2909 u_42063f...</td>\n",
       "      <td>0</td>\n",
       "    </tr>\n",
       "    <tr>\n",
       "      <td>3</td>\n",
       "      <td>1</td>\n",
       "      <td>156824</td>\n",
       "      <td>0</td>\n",
       "      <td>addoc_992370 campaign_7283 adv_1919 u_42063f0c...</td>\n",
       "      <td>0</td>\n",
       "    </tr>\n",
       "    <tr>\n",
       "      <td>4</td>\n",
       "      <td>1</td>\n",
       "      <td>279295</td>\n",
       "      <td>0</td>\n",
       "      <td>addoc_1670176 campaign_27524 adv_1820 u_42063f...</td>\n",
       "      <td>0</td>\n",
       "    </tr>\n",
       "  </tbody>\n",
       "</table>\n",
       "</div>"
      ],
      "text/plain": [
       "   display_id   ad_id  clicked  \\\n",
       "0           1   42337        0   \n",
       "1           1  139684        0   \n",
       "2           1  144739        1   \n",
       "3           1  156824        0   \n",
       "4           1  279295        0   \n",
       "\n",
       "                                      ad_display_str  fold  \n",
       "0  addoc_938164 campaign_5969 adv_1499 u_42063f0c...     0  \n",
       "1  addoc_1085937 campaign_17527 adv_2563 u_42063f...     0  \n",
       "2  addoc_1337362 campaign_18488 adv_2909 u_42063f...     0  \n",
       "3  addoc_992370 campaign_7283 adv_1919 u_42063f0c...     0  \n",
       "4  addoc_1670176 campaign_27524 adv_1820 u_42063f...     0  "
      ]
     },
     "execution_count": 70,
     "metadata": {},
     "output_type": "execute_result"
    }
   ],
   "source": [
    "df_train.head()"
   ]
  },
  {
   "cell_type": "code",
   "execution_count": 83,
   "metadata": {
    "collapsed": false
   },
   "outputs": [],
   "source": [
    "##以batch 的方式替换新建数据\n",
    "## 根据display_id  和 ad_id 新建样本\n",
    "\n",
    "display_ids = df_train.display_id\n",
    "ad_ids = df_train.ad_id"
   ]
  },
  {
   "cell_type": "code",
   "execution_count": 104,
   "metadata": {
    "collapsed": false
   },
   "outputs": [],
   "source": [
    "display_str = df_events_processed.loc[display_ids-1,:]['display_str'].values"
   ]
  },
  {
   "cell_type": "code",
   "execution_count": 107,
   "metadata": {
    "collapsed": false
   },
   "outputs": [
    {
     "data": {
      "text/plain": [
       "500000"
      ]
     },
     "execution_count": 107,
     "metadata": {},
     "output_type": "execute_result"
    }
   ],
   "source": [
    "display_str.shape[0]"
   ]
  },
  {
   "cell_type": "code",
   "execution_count": 94,
   "metadata": {
    "collapsed": false
   },
   "outputs": [],
   "source": [
    "ad_str = [ad_str_dict[item] for item in ad_ids.values]"
   ]
  },
  {
   "cell_type": "code",
   "execution_count": 99,
   "metadata": {
    "collapsed": false
   },
   "outputs": [],
   "source": [
    "labels=df_train.clicked"
   ]
  },
  {
   "cell_type": "code",
   "execution_count": 132,
   "metadata": {
    "collapsed": false
   },
   "outputs": [],
   "source": [
    "## 遍历并保存到文件中\n",
    "c = 0\n",
    "with open('ffm_data.txt','w') as fh:\n",
    "    for i in range(display_str.shape[0]):\n",
    "        line = str(labels[0]) +' '+ display_str[i] + ' '+ad_str[i]\n",
    "        fh.write(line)\n",
    "        fh.write('\\n')\n",
    "        \n",
    "        \n",
    "    \n",
    "    "
   ]
  },
  {
   "cell_type": "code",
   "execution_count": 133,
   "metadata": {
    "collapsed": false
   },
   "outputs": [],
   "source": [
    "## 转化成 deepfm 的格式\n",
    "## batch_size * field_size \n",
    "\n",
    "df_deepfm = pd.read_csv('./processed/ffm_data.txt',sep=' ',header=None)\n"
   ]
  },
  {
   "cell_type": "code",
   "execution_count": 134,
   "metadata": {
    "collapsed": false
   },
   "outputs": [
    {
     "data": {
      "text/html": [
       "<div>\n",
       "<style scoped>\n",
       "    .dataframe tbody tr th:only-of-type {\n",
       "        vertical-align: middle;\n",
       "    }\n",
       "\n",
       "    .dataframe tbody tr th {\n",
       "        vertical-align: top;\n",
       "    }\n",
       "\n",
       "    .dataframe thead th {\n",
       "        text-align: right;\n",
       "    }\n",
       "</style>\n",
       "<table border=\"1\" class=\"dataframe\">\n",
       "  <thead>\n",
       "    <tr style=\"text-align: right;\">\n",
       "      <th></th>\n",
       "      <th>0</th>\n",
       "      <th>1</th>\n",
       "      <th>2</th>\n",
       "      <th>3</th>\n",
       "      <th>4</th>\n",
       "      <th>5</th>\n",
       "      <th>6</th>\n",
       "      <th>7</th>\n",
       "    </tr>\n",
       "  </thead>\n",
       "  <tbody>\n",
       "    <tr>\n",
       "      <td>0</td>\n",
       "      <td>0</td>\n",
       "      <td>0:911113:1</td>\n",
       "      <td>1:379743:1</td>\n",
       "      <td>2:3:1</td>\n",
       "      <td>3:42337:1</td>\n",
       "      <td>4:938164:1</td>\n",
       "      <td>5:5969:1</td>\n",
       "      <td>6:1499:1</td>\n",
       "    </tr>\n",
       "    <tr>\n",
       "      <td>1</td>\n",
       "      <td>0</td>\n",
       "      <td>0:911113:1</td>\n",
       "      <td>1:379743:1</td>\n",
       "      <td>2:3:1</td>\n",
       "      <td>3:139684:1</td>\n",
       "      <td>4:37361:1</td>\n",
       "      <td>5:17527:1</td>\n",
       "      <td>6:2563:1</td>\n",
       "    </tr>\n",
       "    <tr>\n",
       "      <td>2</td>\n",
       "      <td>0</td>\n",
       "      <td>0:911113:1</td>\n",
       "      <td>1:379743:1</td>\n",
       "      <td>2:3:1</td>\n",
       "      <td>3:144739:1</td>\n",
       "      <td>4:288786:1</td>\n",
       "      <td>5:18488:1</td>\n",
       "      <td>6:2909:1</td>\n",
       "    </tr>\n",
       "    <tr>\n",
       "      <td>3</td>\n",
       "      <td>0</td>\n",
       "      <td>0:911113:1</td>\n",
       "      <td>1:379743:1</td>\n",
       "      <td>2:3:1</td>\n",
       "      <td>3:156824:1</td>\n",
       "      <td>4:992370:1</td>\n",
       "      <td>5:7283:1</td>\n",
       "      <td>6:1919:1</td>\n",
       "    </tr>\n",
       "    <tr>\n",
       "      <td>4</td>\n",
       "      <td>0</td>\n",
       "      <td>0:911113:1</td>\n",
       "      <td>1:379743:1</td>\n",
       "      <td>2:3:1</td>\n",
       "      <td>3:279295:1</td>\n",
       "      <td>4:621600:1</td>\n",
       "      <td>5:27524:1</td>\n",
       "      <td>6:1820:1</td>\n",
       "    </tr>\n",
       "  </tbody>\n",
       "</table>\n",
       "</div>"
      ],
      "text/plain": [
       "   0           1           2      3           4           5          6  \\\n",
       "0  0  0:911113:1  1:379743:1  2:3:1   3:42337:1  4:938164:1   5:5969:1   \n",
       "1  0  0:911113:1  1:379743:1  2:3:1  3:139684:1   4:37361:1  5:17527:1   \n",
       "2  0  0:911113:1  1:379743:1  2:3:1  3:144739:1  4:288786:1  5:18488:1   \n",
       "3  0  0:911113:1  1:379743:1  2:3:1  3:156824:1  4:992370:1   5:7283:1   \n",
       "4  0  0:911113:1  1:379743:1  2:3:1  3:279295:1  4:621600:1  5:27524:1   \n",
       "\n",
       "          7  \n",
       "0  6:1499:1  \n",
       "1  6:2563:1  \n",
       "2  6:2909:1  \n",
       "3  6:1919:1  \n",
       "4  6:1820:1  "
      ]
     },
     "execution_count": 134,
     "metadata": {},
     "output_type": "execute_result"
    }
   ],
   "source": [
    "df_deepfm.head()"
   ]
  },
  {
   "cell_type": "code",
   "execution_count": 135,
   "metadata": {
    "collapsed": false
   },
   "outputs": [],
   "source": [
    "field_size=len(df_deepfm.columns)-1"
   ]
  },
  {
   "cell_type": "code",
   "execution_count": 150,
   "metadata": {
    "collapsed": true
   },
   "outputs": [],
   "source": [
    "def get_feature_index(row):\n",
    "    items = row.split(':')\n",
    "    return items[1]\n",
    "\n",
    "def get_feature_values(row):\n",
    "    items = row.split(':')\n",
    "    return items[2]"
   ]
  },
  {
   "cell_type": "code",
   "execution_count": 151,
   "metadata": {
    "collapsed": false
   },
   "outputs": [],
   "source": [
    "indexs=[]\n",
    "values=[]\n",
    "for i in range(1,field_size+1):\n",
    "    index_values = df_deepfm[i].apply(get_feature_index)\n",
    "    indexs.append(index_values)\n",
    "    \n",
    "    values_values = df_deepfm[i].apply(get_feature_values)\n",
    "    values.append(values_values)\n",
    "    "
   ]
  },
  {
   "cell_type": "code",
   "execution_count": 152,
   "metadata": {
    "collapsed": false
   },
   "outputs": [],
   "source": [
    "indexs=np.array(indexs)\n",
    "values = np.array(values)"
   ]
  },
  {
   "cell_type": "code",
   "execution_count": 153,
   "metadata": {
    "collapsed": false
   },
   "outputs": [],
   "source": [
    "indexs = np.transpose(indexs)\n",
    "values=np.transpose(values)"
   ]
  },
  {
   "cell_type": "code",
   "execution_count": 156,
   "metadata": {
    "collapsed": true
   },
   "outputs": [],
   "source": [
    "labels=df_deepfm[0]"
   ]
  },
  {
   "cell_type": "code",
   "execution_count": 158,
   "metadata": {
    "collapsed": true
   },
   "outputs": [],
   "source": [
    "training_deepfm = {\n",
    "    'xi':indexs,\n",
    "    'vi':values,\n",
    "    'label':labels\n",
    "}"
   ]
  },
  {
   "cell_type": "code",
   "execution_count": 162,
   "metadata": {
    "collapsed": false
   },
   "outputs": [],
   "source": [
    "with open('deepfm_training.pickle','wb') as fh:\n",
    "    pickle.dump(training_deepfm,fh)"
   ]
  },
  {
   "cell_type": "code",
   "execution_count": null,
   "metadata": {
    "collapsed": true
   },
   "outputs": [],
   "source": []
  }
 ],
 "metadata": {
  "kernelspec": {
   "display_name": "python (pytorch2)",
   "language": "python",
   "name": "pytorch2"
  },
  "language_info": {
   "codemirror_mode": {
    "name": "ipython",
    "version": 3
   },
   "file_extension": ".py",
   "mimetype": "text/x-python",
   "name": "python",
   "nbconvert_exporter": "python",
   "pygments_lexer": "ipython3",
   "version": "3.6.5"
  }
 },
 "nbformat": 4,
 "nbformat_minor": 2
}
